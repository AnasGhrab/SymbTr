{
 "cells": [
  {
   "cell_type": "code",
   "execution_count": 16,
   "metadata": {
    "collapsed": true
   },
   "outputs": [],
   "source": [
    "from fileoperations.fileoperations import getFileNamesInDir\n",
    "import os\n",
    "import json\n"
   ]
  },
  {
   "cell_type": "code",
   "execution_count": 17,
   "metadata": {
    "collapsed": true
   },
   "outputs": [],
   "source": [
    "symbTrfolder = os.path.abspath('../')\n",
    "symbTrTxtfolder = os.path.join(symbTrfolder, 'txt/')\n",
    "symbTrPdffolder = os.path.join(symbTrfolder, 'SymbTr-pdf/')\n",
    "symbTrMu2folder = os.path.join(symbTrfolder, 'mu2/')\n",
    "symbTrXmlfolder = os.path.join(symbTrfolder, 'MusicXML/')\n",
    "symbTrMidfolder = os.path.join(symbTrfolder, 'midi/')\n",
    "\n",
    "folders = [symbTrTxtfolder, symbTrPdffolder, symbTrMu2folder, symbTrXmlfolder, symbTrMidfolder]\n",
    "extensions = ['txt', 'pdf', 'mu2', 'xml', 'mid']\n",
    "\n",
    "symbTr_work_file = os.path.join(symbTrfolder, 'symbTr_mbid.json')\n",
    "\n",
    "scriptfolder = os.path.join(symbTrfolder, 'extras')\n",
    "sep = '--'"
   ]
  },
  {
   "cell_type": "code",
   "execution_count": 18,
   "metadata": {
    "collapsed": false
   },
   "outputs": [],
   "source": [
    "symbTr = 'cargah--seyir--sofyan--1--erol_bingol'\n",
    "\n",
    "newmakam = 'yeni-cargah'\n",
    "newform = None\n",
    "newusul = None\n",
    "newname = None\n",
    "newcomposer = None\n",
    "\n",
    "sybmTrattributes = symbTr.split(sep)"
   ]
  },
  {
   "cell_type": "code",
   "execution_count": 19,
   "metadata": {
    "collapsed": false
   },
   "outputs": [],
   "source": [
    "if newmakam is not None:\n",
    "    sybmTrattributes[0] = newmakam \n",
    "if newform is not None:\n",
    "    sybmTrattributes[1] = newform\n",
    "if newusul is not None:\n",
    "    sybmTrattributes[2] = newusul\n",
    "if newname is not None:\n",
    "    sybmTrattributes[3] = newname\n",
    "if newcomposer is not None:\n",
    "    sybmTrattributes[4] = newcomposer\n",
    "\n",
    "newsymbTr = sep.join(sybmTrattributes)"
   ]
  },
  {
   "cell_type": "code",
   "execution_count": 20,
   "metadata": {
    "collapsed": false
   },
   "outputs": [],
   "source": [
    "commitstr = 'git commit -m \"Changed the name of ' + symbTr + ' -> ' + newsymbTr + '\"'\n",
    "for f, e in zip(folders, extensions):\n",
    "    os.chdir(f)\n",
    "    mvstr = 'git mv ' + symbTr + '.' + e + ' ' + newsymbTr + '.' + e\n",
    "    os.system(mvstr)\n",
    "    \n",
    "    if e == 'pdf':  # commit changes to SymbTrpdf submodule\n",
    "        os.system(commitstr)\n",
    "        os.system('git push')"
   ]
  },
  {
   "cell_type": "code",
   "execution_count": 21,
   "metadata": {
    "collapsed": false
   },
   "outputs": [
    {
     "name": "stdout",
     "output_type": "stream",
     "text": [
      "{u'name': 'yeni-cargah--seyir--sofyan--1--erol_bingol', u'uuid': {u'mbid': u'2db1dcd0-b641-492d-824c-59914760118c', u'type': u'work'}}\n"
     ]
    }
   ],
   "source": [
    "worksymbtr = json.load(open(symbTr_work_file, 'r'))\n",
    "for ws in worksymbtr:\n",
    "    if ws['name'] == symbTr:\n",
    "        ws['name'] = newsymbTr\n",
    "        print ws\n",
    "worksymbtr = json.dump(worksymbtr, open(symbTr_work_file, 'w'))"
   ]
  },
  {
   "cell_type": "code",
   "execution_count": 22,
   "metadata": {
    "collapsed": false
   },
   "outputs": [],
   "source": [
    "os.chdir(symbTrfolder)\n",
    "\n",
    "addstr = 'git add symbTr_mbid.json SymbTr-pdf'\n",
    "os.system(addstr)\n",
    "os.system(commitstr)\n",
    "os.chdir(scriptfolder)"
   ]
  }
 ],
 "metadata": {
  "kernelspec": {
   "display_name": "Python 2",
   "language": "python",
   "name": "python2"
  },
  "language_info": {
   "codemirror_mode": {
    "name": "ipython",
    "version": 2
   },
   "file_extension": ".py",
   "mimetype": "text/x-python",
   "name": "python",
   "nbconvert_exporter": "python",
   "pygments_lexer": "ipython2",
   "version": "2.7.10"
  }
 },
 "nbformat": 4,
 "nbformat_minor": 0
}
