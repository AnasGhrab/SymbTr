{
 "cells": [
  {
   "cell_type": "code",
   "execution_count": null,
   "metadata": {
    "collapsed": true
   },
   "outputs": [],
   "source": [
    "import os\n",
    "import subprocess\n",
    "from fileoperations import getFileNamesInDir\n"
   ]
  },
  {
   "cell_type": "code",
   "execution_count": null,
   "metadata": {
    "collapsed": false
   },
   "outputs": [],
   "source": [
    "folder = '../txt'\n",
    "keyword = '*.txt'\n",
    "files, dummy, names = getFileNamesInDir(folder, keyword=keyword)\n",
    "names = [os.path.splitext(n)[0] for n in names]\n"
   ]
  },
  {
   "cell_type": "code",
   "execution_count": null,
   "metadata": {
    "collapsed": false
   },
   "outputs": [],
   "source": [
    "iconv_map = {'utf-16le':'UTF-16LE','iso-8859-1':'ISO_8859-9'}\n",
    "for f,n in zip(files, names):\n",
    "    out = subprocess.check_output(\"file -i \" + f, shell = True)\n",
    "    curr_charset = out.split('charset=')[1]\n",
    "\n",
    "    if curr_charset.endswith('\\n'):\n",
    "        curr_charset = curr_charset[:-1]\n",
    "    \n",
    "    if not any(curr_charset in charset for charset in ['utf-8', 'us-ascii']):\n",
    "        print curr_charset + '\\t' + n\n",
    "        commandstr = (\"iconv -f \" +  iconv_map[curr_charset] + \" -t UTF-8 \" + f + \" > tmp.txt \"\n",
    "                      \"&& mv -f tmp.txt \" + f)\n",
    "        out = subprocess.check_output(commandstr, shell = True)\n"
   ]
  },
  {
   "cell_type": "code",
   "execution_count": null,
   "metadata": {
    "collapsed": false
   },
   "outputs": [],
   "source": []
  }
 ],
 "metadata": {
  "kernelspec": {
   "display_name": "Python 2",
   "language": "python",
   "name": "python2"
  },
  "language_info": {
   "codemirror_mode": {
    "name": "ipython",
    "version": 2
   },
   "file_extension": ".py",
   "mimetype": "text/x-python",
   "name": "python",
   "nbconvert_exporter": "python",
   "pygments_lexer": "ipython2",
   "version": "2.7.6"
  }
 },
 "nbformat": 4,
 "nbformat_minor": 0
}
