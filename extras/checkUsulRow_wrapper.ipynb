{
 "cells": [
  {
   "cell_type": "code",
   "execution_count": 1,
   "metadata": {
    "collapsed": false
   },
   "outputs": [],
   "source": [
    "from fileoperations.fileoperations import getFileNamesInDir\n",
    "from symbtrdataextractor import symbtrreader, extractor\n",
    "import os\n",
    "import json\n",
    "import pandas as pd \n",
    "\n",
    "import pdb\n"
   ]
  },
  {
   "cell_type": "code",
   "execution_count": 2,
   "metadata": {
    "collapsed": false
   },
   "outputs": [],
   "source": [
    "symbtr_cols = ['Sira', 'Kod', 'Nota53', 'NotaAE', 'Koma53', 'KomaAE', \n",
    "               'Pay', 'Payda', 'Ms', 'LNS', 'Bas', 'Soz1', 'Offset']\n",
    "symbtrfolder = os.path.join('..', 'txt')\n",
    "savefolder = os.path.join('..', 'txt')\n",
    "\n",
    "symbtrs = [os.path.splitext(s)[0] for s in getFileNamesInDir('../txt', keyword='*.txt')[2]]\n",
    "\n",
    "usuldict = json.load(open('./unittests/data/usul_extended.json','r'))\n",
    "mu2dict = {}\n",
    "inv_mu2dict = {}\n",
    "for key, val in usuldict.iteritems():\n",
    "    for vrt in val['variants']:\n",
    "        if vrt['mu2_name']:  # if it doesn't have a mu2 name, the usul is not in symbtr collection\n",
    "            zaman = int(vrt['num_pulses']) if vrt['num_pulses'] else []\n",
    "            mertebe = int(vrt['mertebe']) if vrt['mertebe'] else []\n",
    "            if vrt['mu2_name'] == '(Serbest)':\n",
    "                zaman = 0\n",
    "                mertebe = 0\n",
    "            mu2dict[vrt['mu2_name']] = {'id':int(vrt['symbtr_internal_id']), 'zaman':zaman,\n",
    "                                        'mertebe':mertebe}\n",
    "                                                                                       \n",
    "            inv_mu2dict[int(vrt['symbtr_internal_id'])] = {'mu2_name':vrt['mu2_name'],\n",
    "                                                           'zaman':zaman, 'mertebe':mertebe}\n",
    "            "
   ]
  },
  {
   "cell_type": "code",
   "execution_count": 3,
   "metadata": {
    "collapsed": false
   },
   "outputs": [
    {
     "name": "stdout",
     "output_type": "stream",
     "text": [
      "790 beyati--sazsemaisi--aksaksemai----nayi_osman_dede, line 395: Filling missing Frenkçîn\n",
      "790 beyati--sazsemaisi--aksaksemai----nayi_osman_dede, line 562: Filling missing Aksaksemâî\n",
      "855 mahur--beste--devrikebir--ta-be-key_sinemde--dilhayat_kalfa, line 143: Filling missing Ağır Aksaksemâî\n",
      "855 mahur--beste--devrikebir--ta-be-key_sinemde--dilhayat_kalfa, line 264: Filling missing Devr-i Kebîr\n",
      "855 mahur--beste--devrikebir--ta-be-key_sinemde--dilhayat_kalfa, line 454: Filling missing Ağır Aksaksemâî\n",
      "855 mahur--beste--devrikebir--ta-be-key_sinemde--dilhayat_kalfa, line 575: Filling missing Devr-i Kebîr\n",
      "855 mahur--beste--devrikebir--ta-be-key_sinemde--dilhayat_kalfa, line 741: Filling missing Ağır Aksaksemâî\n",
      "855 mahur--beste--devrikebir--ta-be-key_sinemde--dilhayat_kalfa, line 863: Filling missing Devr-i Kebîr\n",
      "1234 beyati--sarki--duyek--ruhuma_sundugun--sadettin_kaynak, line 180: Filling missing Yürüksemâî II\n",
      "1234 beyati--sarki--duyek--ruhuma_sundugun--sadettin_kaynak, line 239: Filling missing Düyek\n",
      "1234 beyati--sarki--duyek--ruhuma_sundugun--sadettin_kaynak, line 264: Filling missing Yürüksemâî II\n",
      "1426 ferahnuma--sarki--curcuna--guzel_kiz--huseyin_sadettin_arel, line 44: Filling missing Sofyan\n",
      "1426 ferahnuma--sarki--curcuna--guzel_kiz--huseyin_sadettin_arel, line 87: Filling missing Curcuna\n",
      "1426 ferahnuma--sarki--curcuna--guzel_kiz--huseyin_sadettin_arel, line 155: Filling missing Sofyan\n",
      "1923 hicazkar--sazsemaisi--aksaksemai----gazi_giray_han, line 434: Filling missing Yürüksemâî II\n",
      "1923 hicazkar--sazsemaisi--aksaksemai----gazi_giray_han, line 475: Filling missing Aksaksemâî\n",
      "2130 nihavent--fantezi--semai--ne_bildim--alaeddin_yavasca, line 246: Filling missing Düyek\n",
      "2130 nihavent--fantezi--semai--ne_bildim--alaeddin_yavasca, line 328: Filling missing Semâî\n"
     ]
    }
   ],
   "source": [
    "for ii, symbTr in enumerate(symbtrs):\n",
    "    filechanged = False\n",
    "    symbtrtxtfile = os.path.join(symbtrfolder, symbTr + '.txt')\n",
    "\n",
    "    df = pd.read_csv(symbtrtxtfile, sep='\\t', encoding='utf-8')\n",
    "    for index, row in df.iterrows():     \n",
    "        rowchanged = False\n",
    "        # change null to empty string\n",
    "        for key, val in row.iteritems():\n",
    "            if pd.isnull(val):\n",
    "                row[key] = ''\n",
    "                rowchanged = True\n",
    "\n",
    "        if row['Kod'] == 51:\n",
    "            usul_id = row['LNS']\n",
    "            usul_name = row['Soz1']\n",
    "            if usul_name:  # name given\n",
    "                # check if the usul pair matches with the mu2dict\n",
    "                if mu2dict[usul_name]['id'] == usul_id:\n",
    "                    if not mu2dict[usul_name]['zaman'] == row['Pay']:\n",
    "                        print str(ii) + ' ' + symbTr + ', line ' + str(index) + ': ' + usul_name + ' and zaman does not match.'\n",
    "                    if not mu2dict[usul_name]['mertebe'] == row['Payda']:\n",
    "                        print str(ii) + ' ' + symbTr + ', line ' + str(index) + ': ' + usul_name + ' and mertebe does not match.'\n",
    "                else:\n",
    "                    print str(ii) + ' ' + symbTr + ', line ' + str(index) + ': ' + usul_name + ' and ' + str(usul_id) + ' does not match.'\n",
    "            elif usul_id:\n",
    "                if usul_id == -1:\n",
    "                    print str(ii) + ' ' + symbTr + ', line ' + str(index) + ': Missing usul info'\n",
    "                else:\n",
    "                    print str(ii) + ' ' + symbTr + ', line ' + str(index) + ': Filling missing ' + inv_mu2dict[usul_id]['mu2_name']\n",
    "                    row['Soz1'] = inv_mu2dict[usul_id]['mu2_name']\n",
    "                    if not inv_mu2dict[usul_id]['zaman'] == row['Pay']:\n",
    "                        print str(ii) + ' ' + symbTr + ', line ' + str(index) + ': ' + usul_name + ' and zaman does not match.'\n",
    "                    if not inv_mu2dict[usul_id]['mertebe'] == row['Payda']:\n",
    "                        print str(ii) + ' ' + symbTr + ', line ' + str(index) + ': ' + usul_name + ' and mertebe does not match.'\n",
    "                    rowchanged = True\n",
    "                    filechanged = True\n",
    "            else:\n",
    "                pdb.set_trace()\n",
    "\n",
    "        # reassign\n",
    "        if rowchanged:\n",
    "            df.iloc[index] = row\n",
    "\n",
    "    if filechanged:\n",
    "        savefile = os.path.join(savefolder, symbTr + '.txt')\n",
    "        df.to_csv(savefile, sep='\\t', index=False, encoding='utf-8')\n"
   ]
  }
 ],
 "metadata": {
  "kernelspec": {
   "display_name": "Python 2",
   "language": "python",
   "name": "python2"
  },
  "language_info": {
   "codemirror_mode": {
    "name": "ipython",
    "version": 2
   },
   "file_extension": ".py",
   "mimetype": "text/x-python",
   "name": "python",
   "nbconvert_exporter": "python",
   "pygments_lexer": "ipython2",
   "version": "2.7.6"
  }
 },
 "nbformat": 4,
 "nbformat_minor": 0
}
