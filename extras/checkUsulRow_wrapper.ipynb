{
 "cells": [
  {
   "cell_type": "code",
   "execution_count": 1,
   "metadata": {
    "collapsed": false
   },
   "outputs": [],
   "source": [
    "from fileoperations.fileoperations import getFileNamesInDir\n",
    "from symbtrdataextractor import symbtrreader, extractor\n",
    "import os\n",
    "import json\n",
    "import pandas as pd \n",
    "\n",
    "import pdb"
   ]
  },
  {
   "cell_type": "code",
   "execution_count": 2,
   "metadata": {
    "collapsed": false
   },
   "outputs": [],
   "source": [
    "symbtr_cols = ['Sira', 'Kod', 'Nota53', 'NotaAE', 'Koma53', 'KomaAE', \n",
    "               'Pay', 'Payda', 'Ms', 'LNS', 'Bas', 'Soz1', 'Offset']\n",
    "symbtrfolder = os.path.join('..', '..', 'symbtr_corrections', 'usul')\n",
    "savefolder = os.path.join('..', '..', 'symbtr_corrections', 'usul_name')\n",
    "\n",
    "symbtrs = [os.path.splitext(s)[0] for s in getFileNamesInDir('../txt', keyword='*.txt')[2]]\n",
    "\n",
    "usuldict = json.load(open('./unittests/data/usul_extended.json','r'))\n",
    "mu2dict = {}\n",
    "for key, val in usuldict.iteritems():\n",
    "    for vrt in val['variants']:\n",
    "        if vrt['mu2_name']:  # if it doesnt have a mu2 name, the usul is not in symbtr collection\n",
    "            mu2dict[vrt['mu2_name']] = int(vrt['symbtr_internal_id'])\n",
    "            \n",
    "inv_mu2dict = {v: k for k, v in mu2dict.items()}"
   ]
  },
  {
   "cell_type": "code",
   "execution_count": 3,
   "metadata": {
    "collapsed": false
   },
   "outputs": [
    {
     "name": "stdout",
     "output_type": "stream",
     "text": [
      "7 muhayyerkurdi--sarki--nimsofyan--gonlumu_gonlune--omer_sami_gupgup, line 224: Filling missing Nîmsofyan\n",
      "19 evic--sazsemaisi--aksaksemai----muallim_ismail_hakki_bey, line 736: Filling missing Aksaksemâî\n",
      "26 mahur--sazsemaisi--aksaksemai--bahar_1--goksel_baktagir, line 546: Filling missing Semâî\n",
      "26 mahur--sazsemaisi--aksaksemai--bahar_1--goksel_baktagir, line 755: Filling missing Aksaksemâî\n",
      "73 guldeste--sazsemaisi--aksaksemai----dede_salih_efendi, line 374: Filling missing Aksaksemâî\n",
      "108 tahirbuselik--sazsemaisi--aksaksemai----kemani_riza_efendi, line 529: Filling missing Aksaksemâî\n",
      "129 yegah--sazsemaisi--aksaksemai----neyzen_aziz_dede, line 361: Filling missing Aksaksemâî\n",
      "132 nihavent--sarki--semai--gelin_kizlar--haci_faik_bey, line 232: Filling missing Semâî\n",
      "175 gulzar--sazsemaisi--aksaksemai----ismet_burkay, line 868: Filling missing Aksaksemâî\n",
      "176 ussak--sazsemaisi--aksaksemai----dede_salih_efendi, line 708: Filling missing Aksaksemâî\n",
      "179 evic--sazsemaisi--aksaksemai----sedat_oztoprak, line 605: Filling missing Aksaksemâî\n",
      "199 sevkefza--sazsemaisi--aksaksemai----said_dede, line 496: Filling missing Aksaksemâî\n"
     ]
    },
    {
     "ename": "TypeError",
     "evalue": "coercing to Unicode: need string or buffer, numpy.int64 found",
     "output_type": "error",
     "traceback": [
      "\u001b[1;31m---------------------------------------------------------------------------\u001b[0m",
      "\u001b[1;31mTypeError\u001b[0m                                 Traceback (most recent call last)",
      "\u001b[1;32m<ipython-input-3-02b3875c2951>\u001b[0m in \u001b[0;36m<module>\u001b[1;34m()\u001b[0m\n\u001b[0;32m     21\u001b[0m                     \u001b[1;32mpass\u001b[0m\u001b[1;33m\u001b[0m\u001b[0m\n\u001b[0;32m     22\u001b[0m                 \u001b[1;32melse\u001b[0m\u001b[1;33m:\u001b[0m\u001b[1;33m\u001b[0m\u001b[0m\n\u001b[1;32m---> 23\u001b[1;33m                     \u001b[1;32mprint\u001b[0m \u001b[0mstr\u001b[0m\u001b[1;33m(\u001b[0m\u001b[0mii\u001b[0m\u001b[1;33m)\u001b[0m \u001b[1;33m+\u001b[0m \u001b[1;34m' '\u001b[0m \u001b[1;33m+\u001b[0m \u001b[0msymbTr\u001b[0m \u001b[1;33m+\u001b[0m \u001b[1;34m', line '\u001b[0m \u001b[1;33m+\u001b[0m \u001b[0mindex\u001b[0m \u001b[1;33m+\u001b[0m \u001b[1;34m': '\u001b[0m \u001b[1;33m+\u001b[0m \u001b[0musul_name\u001b[0m \u001b[1;33m+\u001b[0m \u001b[1;34m' and '\u001b[0m \u001b[1;33m+\u001b[0m \u001b[0mstr\u001b[0m\u001b[1;33m(\u001b[0m\u001b[0musul_id\u001b[0m\u001b[1;33m)\u001b[0m \u001b[1;33m+\u001b[0m \u001b[1;34m' does not match.'\u001b[0m\u001b[1;33m\u001b[0m\u001b[0m\n\u001b[0m\u001b[0;32m     24\u001b[0m             \u001b[1;32melif\u001b[0m \u001b[0musul_id\u001b[0m\u001b[1;33m:\u001b[0m\u001b[1;33m\u001b[0m\u001b[0m\n\u001b[0;32m     25\u001b[0m                 \u001b[1;32mprint\u001b[0m \u001b[0mstr\u001b[0m\u001b[1;33m(\u001b[0m\u001b[0mii\u001b[0m\u001b[1;33m)\u001b[0m \u001b[1;33m+\u001b[0m \u001b[1;34m' '\u001b[0m \u001b[1;33m+\u001b[0m \u001b[0msymbTr\u001b[0m \u001b[1;33m+\u001b[0m \u001b[1;34m', line '\u001b[0m \u001b[1;33m+\u001b[0m \u001b[0mstr\u001b[0m\u001b[1;33m(\u001b[0m\u001b[0mindex\u001b[0m\u001b[1;33m)\u001b[0m \u001b[1;33m+\u001b[0m \u001b[1;34m': Filling missing '\u001b[0m \u001b[1;33m+\u001b[0m \u001b[0minv_mu2dict\u001b[0m\u001b[1;33m[\u001b[0m\u001b[0musul_id\u001b[0m\u001b[1;33m]\u001b[0m\u001b[1;33m\u001b[0m\u001b[0m\n",
      "\u001b[1;31mTypeError\u001b[0m: coercing to Unicode: need string or buffer, numpy.int64 found"
     ]
    }
   ],
   "source": [
    "for ii, symbTr in enumerate(symbtrs):\n",
    "    filechanged = False\n",
    "    symbtrtxtfile = os.path.join(symbtrfolder, symbTr + '.txt')\n",
    "\n",
    "    df = pd.read_csv(symbtrtxtfile, sep='\\t', encoding='utf-8')\n",
    "    for index, row in df.iterrows():     \n",
    "        rowchanged = False\n",
    "        # change null to empty string\n",
    "        for key, val in row.iteritems():\n",
    "            if pd.isnull(val):\n",
    "                row[key] = ''\n",
    "                rowchanged = True\n",
    "\n",
    "        if row['Kod'] == 51:\n",
    "            usul_id = row['LNS']\n",
    "            usul_name = row['Soz1']\n",
    "            \n",
    "            if usul_name:  # name given\n",
    "                # check if the usul pair matches with the mu2dict\n",
    "                if mu2dict[usul_name] == usul_id:\n",
    "                    pass\n",
    "                else:\n",
    "                    print str(ii) + ' ' + symbTr + ', line ' + str(index) + ': ' + usul_name + ' and ' + str(usul_id) + ' does not match.'\n",
    "            elif usul_id:\n",
    "                print str(ii) + ' ' + symbTr + ', line ' + str(index) + ': Filling missing ' + inv_mu2dict[usul_id]\n",
    "                row['Soz1'] = inv_mu2dict[usul_id]\n",
    "                rowchanged = True\n",
    "                filechanged = True\n",
    "            else:\n",
    "                pdb.set_trace()\n",
    "\n",
    "        # reassign\n",
    "        if rowchanged:\n",
    "            df.iloc[index] = row\n",
    "            \n",
    "    if filechanged:\n",
    "        savefile = os.path.join(savefolder, symbTr + '.txt')\n",
    "        df.to_csv(savefile, sep='\\t', index=False, encoding='utf-8')\n"
   ]
  },
  {
   "cell_type": "code",
   "execution_count": 4,
   "metadata": {
    "collapsed": false
   },
   "outputs": [
    {
     "name": "stdout",
     "output_type": "stream",
     "text": [
      "273 hicaz--sazsemaisi--aksaksemai----muhittin_erev, line 429: Semâî and 99 does not match.\n"
     ]
    }
   ],
   "source": []
  }
 ],
 "metadata": {
  "kernelspec": {
   "display_name": "Python 2",
   "language": "python",
   "name": "python2"
  },
  "language_info": {
   "codemirror_mode": {
    "name": "ipython",
    "version": 2
   },
   "file_extension": ".py",
   "mimetype": "text/x-python",
   "name": "python",
   "nbconvert_exporter": "python",
   "pygments_lexer": "ipython2",
   "version": "2.7.6"
  }
 },
 "nbformat": 4,
 "nbformat_minor": 0
}
