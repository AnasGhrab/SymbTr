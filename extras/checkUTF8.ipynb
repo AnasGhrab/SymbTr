{
 "cells": [
  {
   "cell_type": "code",
   "execution_count": 1,
   "metadata": {
    "collapsed": true
   },
   "outputs": [],
   "source": [
    "from fileoperations.fileoperations import getFileNamesInDir\n",
    "import os\n",
    "import json\n",
    "import subprocess\n",
    "\n",
    "import pdb"
   ]
  },
  {
   "cell_type": "code",
   "execution_count": 2,
   "metadata": {
    "collapsed": false
   },
   "outputs": [],
   "source": [
    "symbTrfolder = '../'\n",
    "symbTrTxtfolder = os.path.join(symbTrfolder, 'txt/')\n",
    "symbTrMu2folder = os.path.join(symbTrfolder, 'mu2/')\n",
    "\n",
    "symbtrtxtfiles = getFileNamesInDir(symbTrTxtfolder, keyword = '*.txt')[0]\n",
    "\n",
    "symbtrmu2files = getFileNamesInDir(symbTrMu2folder, keyword = '*.mu2')[0]\n"
   ]
  },
  {
   "cell_type": "code",
   "execution_count": 3,
   "metadata": {
    "collapsed": false,
    "scrolled": true
   },
   "outputs": [],
   "source": [
    "for txt in symbtrtxtfiles:\n",
    "    out = subprocess.check_output(\"file -i \" + txt, shell = True)\n",
    "    # If there are no \"Turkish\" characters in a file, the encoding will be\n",
    "    # seen as us-ascii which is a subset of UTF-8\n",
    "    if not any(charset in out for charset in ['utf-8', 'us-ascii']):\n",
    "        print out\n"
   ]
  },
  {
   "cell_type": "code",
   "execution_count": null,
   "metadata": {
    "collapsed": false
   },
   "outputs": [],
   "source": []
  }
 ],
 "metadata": {
  "kernelspec": {
   "display_name": "Python 2",
   "language": "python",
   "name": "python2"
  },
  "language_info": {
   "codemirror_mode": {
    "name": "ipython",
    "version": 2
   },
   "file_extension": ".py",
   "mimetype": "text/x-python",
   "name": "python",
   "nbconvert_exporter": "python",
   "pygments_lexer": "ipython2",
   "version": "2.7.6"
  }
 },
 "nbformat": 4,
 "nbformat_minor": 0
}
