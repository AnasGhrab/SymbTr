{
 "cells": [
  {
   "cell_type": "code",
   "execution_count": null,
   "metadata": {
    "collapsed": false
   },
   "outputs": [],
   "source": [
    "import os\n",
    "import subprocess\n",
    "from fileoperations.fileoperations import getFileNamesInDir\n",
    "import pdb"
   ]
  },
  {
   "cell_type": "code",
   "execution_count": null,
   "metadata": {
    "collapsed": false
   },
   "outputs": [],
   "source": [
    "folder = '../txt'\n",
    "keyword = '*.txt'\n",
    "files, dummy, names = getFileNamesInDir(folder, keyword=keyword)\n",
    "names = [os.path.splitext(n)[0] for n in names]\n"
   ]
  },
  {
   "cell_type": "code",
   "execution_count": null,
   "metadata": {
    "collapsed": false
   },
   "outputs": [],
   "source": [
    "iconv_map = {'utf-16le':'UTF-16', 'Little-endian UTF-16 Unicode':'UTF-16',\n",
    "             'iso-8859-1':'ISO_8859-9','ISO-8859':'ISO_8859-9'}\n",
    "for f,n in zip(files, names):\n",
    "    try:  # unix\n",
    "        out = subprocess.check_output(\"file -i \" + f, shell = True)\n",
    "        curr_charset = out.split('charset=')[1]\n",
    "\n",
    "        if curr_charset.endswith('\\n'):\n",
    "            curr_charset = curr_charset[:-1]\n",
    "            \n",
    "        if not any(curr_charset in charset for charset in ['utf-8', 'us-ascii']):\n",
    "            print curr_charset + '\\t' + n\n",
    "            commandstr = (\"iconv -f \" +  iconv_map[curr_charset] + \" -t UTF-8 \" + f + \" > tmp.txt \"\n",
    "                          \"&& mv -f tmp.txt \" + f)\n",
    "            out = subprocess.check_output(commandstr, shell = True)\n",
    "            \n",
    "        # also change the line break from \\r\\n to \\n\n",
    "        out = subprocess.check_output(\"fromdos \" + f, shell = True)\n",
    "    except IndexError:  # mac\n",
    "        out = subprocess.check_output(\"file -b \" + f, shell = True)\n",
    "        curr_charset = out.split(' text')[0]\n",
    "\n",
    "        if not any(curr_charset in charset for charset in ['UTF-8 Unicode', 'ASCII']):\n",
    "            print curr_charset + '\\t' + n\n",
    "            commandstr = (\"iconv -f \" +  iconv_map[curr_charset] + \" -t UTF-8 \" + f + \" > tmp.txt \"\n",
    "                          \"&& mv -f tmp.txt \" + f)\n",
    "            out = subprocess.check_output(commandstr, shell = True)\n",
    "        \n",
    "        # also change the line break from \\r\\n to \\n\n",
    "        out = subprocess.check_output(\"sed -e 's/\\r$//' \" + f + \" > tmp.txt \"\n",
    "                                      \"&& mv -f tmp.txt \" + f, shell = True)\n"
   ]
  },
  {
   "cell_type": "code",
   "execution_count": null,
   "metadata": {
    "collapsed": false
   },
   "outputs": [],
   "source": []
  }
 ],
 "metadata": {
  "kernelspec": {
   "display_name": "Python 2",
   "language": "python",
   "name": "python2"
  },
  "language_info": {
   "codemirror_mode": {
    "name": "ipython",
    "version": 2
   },
   "file_extension": ".py",
   "mimetype": "text/x-python",
   "name": "python",
   "nbconvert_exporter": "python",
   "pygments_lexer": "ipython2",
   "version": "2.7.6"
  }
 },
 "nbformat": 4,
 "nbformat_minor": 0
}
