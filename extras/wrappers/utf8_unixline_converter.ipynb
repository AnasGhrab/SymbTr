{
 "cells": [
  {
   "cell_type": "code",
   "execution_count": 1,
   "metadata": {
    "collapsed": false
   },
   "outputs": [],
   "source": [
    "import os\n",
    "import subprocess\n",
    "from fileoperations.fileoperations import get_filenames_in_dir\n",
    "import pdb"
   ]
  },
  {
   "cell_type": "code",
   "execution_count": 2,
   "metadata": {
    "collapsed": false
   },
   "outputs": [],
   "source": [
    "folder = '../../txt'\n",
    "keyword = '*.txt'\n",
    "files, dummy, names = get_filenames_in_dir(folder, keyword=keyword)\n",
    "names = [os.path.splitext(n)[0] for n in names]\n"
   ]
  },
  {
   "cell_type": "code",
   "execution_count": 3,
   "metadata": {
    "collapsed": false
   },
   "outputs": [
    {
     "name": "stdout",
     "output_type": "stream",
     "text": [
      "acem--ilahi--duyek--aldanma_dunya--zekai_dede\n",
      "ISO-8859\tacem--ilahi--duyek--aldanma_dunya--zekai_dede\n",
      "acem--ilahi--nimevsat--calabim_bir--haci_bayram_veli\n",
      "acem--kupe--duyek--zulfunu--ahmet_avni_konuk\n",
      "acem--selam--devrikebir--asik-i_ger--huseyin_fahreddin_dede\n",
      "acem--seyir--sofyan--1--erol_bingol\n",
      "acem--seyir--sofyan--1--sefik_gurmeric\n",
      "acem--turku--duyek--ordunun_dereleri--ordu\n",
      "acemasiran--aranagme--agiraksak--1--\n",
      "acemasiran--aranagme--aksak--1--\n",
      "acemasiran--aranagme--curcuna--1--\n",
      "acemasiran--aranagme--semai--1--\n",
      "acemasiran--aranagme--senginsemai--1--\n",
      "acemasiran--aranagme--sofyan--1--\n",
      "acemasiran--aranagme--yuruksemai--1--\n",
      "acemasiran--beste--devrikebir--ber_kusa-yi--basmaci_abdi_efendi\n",
      "acemasiran--beste--zencir--hayatin_cumleye--dellalzade_haci_ismail_efendi\n",
      "acemasiran--fantezi--yuruksemai_ii--ey_benim--resat_erer\n",
      "acemasiran--ilahi--muhammes--ta_dil--calakzade_mustafa_efendi\n",
      "acemasiran--kupe--aksaksemai--bir--ahmet_avni_konuk\n",
      "acemasiran--mars--nimsofyan--korkma_sonmez--ali_rifat_cagatay\n",
      "acemasiran--nakis--yuruksemai--ne_hevayi--dede_efendi\n",
      "acemasiran--pesrev--devrikebir----dede_salih_efendi\n",
      "acemasiran--pesrev--duyek--son_pesrev--huseyin_fahreddin_dede\n",
      "acemasiran--pesrev--frenkcin----nuri_halil_poyraz\n",
      "acemasiran--pesrev--muhammes----gazi_giray_han\n",
      "acemasiran--sarki--agiraksak--bir_haber--bimen_sen\n",
      "acemasiran--sarki--agiraksak--bir_teselli--serif_icli\n",
      "acemasiran--sarki--agiraksak--goncasindan_gulsenin--emin_ongan\n",
      "acemasiran--sarki--agiraksak--mahveder_her--neyzen_riza_bey\n",
      "acemasiran--sarki--agiraksak--ne_kadar--artaki_candan\n",
      "acemasiran--sarki--agirduyek--kime_halim--faize_ergin\n"
     ]
    },
    {
     "ename": "CalledProcessError",
     "evalue": "Command 'file -b ../../txt/acemasiran--sarki--agirduyek--kime_halim--faize_ergin.txt' returned non-zero exit status 1",
     "output_type": "error",
     "traceback": [
      "\u001b[0;31m---------------------------------------------------------------------------\u001b[0m",
      "\u001b[0;31mCalledProcessError\u001b[0m                        Traceback (most recent call last)",
      "\u001b[0;32m<ipython-input-3-028646adec06>\u001b[0m in \u001b[0;36m<module>\u001b[0;34m()\u001b[0m\n\u001b[1;32m     19\u001b[0m         \u001b[0mout\u001b[0m \u001b[0;34m=\u001b[0m \u001b[0msubprocess\u001b[0m\u001b[0;34m.\u001b[0m\u001b[0mcheck_output\u001b[0m\u001b[0;34m(\u001b[0m\u001b[0;34m\"fromdos \"\u001b[0m \u001b[0;34m+\u001b[0m \u001b[0mf\u001b[0m\u001b[0;34m,\u001b[0m \u001b[0mshell\u001b[0m \u001b[0;34m=\u001b[0m \u001b[0mTrue\u001b[0m\u001b[0;34m)\u001b[0m\u001b[0;34m\u001b[0m\u001b[0m\n\u001b[1;32m     20\u001b[0m     \u001b[0;32mexcept\u001b[0m \u001b[0mIndexError\u001b[0m\u001b[0;34m:\u001b[0m  \u001b[0;31m# mac\u001b[0m\u001b[0;34m\u001b[0m\u001b[0m\n\u001b[0;32m---> 21\u001b[0;31m         \u001b[0mout\u001b[0m \u001b[0;34m=\u001b[0m \u001b[0msubprocess\u001b[0m\u001b[0;34m.\u001b[0m\u001b[0mcheck_output\u001b[0m\u001b[0;34m(\u001b[0m\u001b[0;34m\"file -b \"\u001b[0m \u001b[0;34m+\u001b[0m \u001b[0mf\u001b[0m\u001b[0;34m,\u001b[0m \u001b[0mshell\u001b[0m \u001b[0;34m=\u001b[0m \u001b[0mTrue\u001b[0m\u001b[0;34m)\u001b[0m\u001b[0;34m\u001b[0m\u001b[0m\n\u001b[0m\u001b[1;32m     22\u001b[0m         \u001b[0mcurr_charset\u001b[0m \u001b[0;34m=\u001b[0m \u001b[0mout\u001b[0m\u001b[0;34m.\u001b[0m\u001b[0msplit\u001b[0m\u001b[0;34m(\u001b[0m\u001b[0;34m' text'\u001b[0m\u001b[0;34m)\u001b[0m\u001b[0;34m[\u001b[0m\u001b[0;36m0\u001b[0m\u001b[0;34m]\u001b[0m\u001b[0;34m\u001b[0m\u001b[0m\n\u001b[1;32m     23\u001b[0m \u001b[0;34m\u001b[0m\u001b[0m\n",
      "\u001b[0;32m/usr/local/Cellar/python/2.7.10/Frameworks/Python.framework/Versions/2.7/lib/python2.7/subprocess.pyc\u001b[0m in \u001b[0;36mcheck_output\u001b[0;34m(*popenargs, **kwargs)\u001b[0m\n\u001b[1;32m    571\u001b[0m         \u001b[0;32mif\u001b[0m \u001b[0mcmd\u001b[0m \u001b[0;32mis\u001b[0m \u001b[0mNone\u001b[0m\u001b[0;34m:\u001b[0m\u001b[0;34m\u001b[0m\u001b[0m\n\u001b[1;32m    572\u001b[0m             \u001b[0mcmd\u001b[0m \u001b[0;34m=\u001b[0m \u001b[0mpopenargs\u001b[0m\u001b[0;34m[\u001b[0m\u001b[0;36m0\u001b[0m\u001b[0;34m]\u001b[0m\u001b[0;34m\u001b[0m\u001b[0m\n\u001b[0;32m--> 573\u001b[0;31m         \u001b[0;32mraise\u001b[0m \u001b[0mCalledProcessError\u001b[0m\u001b[0;34m(\u001b[0m\u001b[0mretcode\u001b[0m\u001b[0;34m,\u001b[0m \u001b[0mcmd\u001b[0m\u001b[0;34m,\u001b[0m \u001b[0moutput\u001b[0m\u001b[0;34m=\u001b[0m\u001b[0moutput\u001b[0m\u001b[0;34m)\u001b[0m\u001b[0;34m\u001b[0m\u001b[0m\n\u001b[0m\u001b[1;32m    574\u001b[0m     \u001b[0;32mreturn\u001b[0m \u001b[0moutput\u001b[0m\u001b[0;34m\u001b[0m\u001b[0m\n\u001b[1;32m    575\u001b[0m \u001b[0;34m\u001b[0m\u001b[0m\n",
      "\u001b[0;31mCalledProcessError\u001b[0m: Command 'file -b ../../txt/acemasiran--sarki--agirduyek--kime_halim--faize_ergin.txt' returned non-zero exit status 1"
     ]
    }
   ],
   "source": [
    "iconv_map = {'utf-16le':'UTF-16', 'Little-endian UTF-16 Unicode':'UTF-16',\n",
    "             'iso-8859-1':'ISO_8859-9','ISO-8859':'ISO_8859-9'}\n",
    "for f,n in zip(files, names):\n",
    "    print n\n",
    "    try:  # unix\n",
    "        out = subprocess.check_output(\"file -i \" + f, shell = True)\n",
    "        curr_charset = out.split('charset=')[1]\n",
    "\n",
    "        if curr_charset.endswith('\\n'):\n",
    "            curr_charset = curr_charset[:-1]\n",
    "            \n",
    "        if not any(curr_charset in charset for charset in ['utf-8', 'us-ascii']):\n",
    "            print curr_charset + '\\t' + n\n",
    "            commandstr = (\"iconv -f \" +  iconv_map[curr_charset] + \" -t UTF-8 \" + f + \" > tmp.txt \"\n",
    "                          \"&& mv -f tmp.txt \" + f)\n",
    "            out = subprocess.check_output(commandstr, shell = True)\n",
    "            \n",
    "        # also change the line break from \\r\\n to \\n\n",
    "        out = subprocess.check_output(\"fromdos \" + f, shell = True)\n",
    "    except IndexError:  # mac\n",
    "        out = subprocess.check_output(\"file -b \" + f, shell = True)\n",
    "        curr_charset = out.split(' text')[0]\n",
    "\n",
    "        if not any(curr_charset in charset for charset in ['UTF-8 Unicode', 'ASCII']):\n",
    "            print curr_charset + '\\t' + n\n",
    "            commandstr = (\"iconv -f \" +  iconv_map[curr_charset] + \" -t UTF-8 \" + f + \" > tmp.txt \"\n",
    "                          \"&& mv -f tmp.txt \" + f)\n",
    "            out = subprocess.check_output(commandstr, shell = True)\n",
    "        \n",
    "        # also change the line break from \\r\\n to \\n\n",
    "        out = subprocess.check_output(\"sed -e 's/\\r$//' \" + f + \" > tmp.txt \"\n",
    "                                      \"&& mv -f tmp.txt \" + f, shell = True)\n"
   ]
  },
  {
   "cell_type": "code",
   "execution_count": null,
   "metadata": {
    "collapsed": false
   },
   "outputs": [],
   "source": []
  }
 ],
 "metadata": {
  "kernelspec": {
   "display_name": "Python 2",
   "language": "python",
   "name": "python2"
  },
  "language_info": {
   "codemirror_mode": {
    "name": "ipython",
    "version": 2
   },
   "file_extension": ".py",
   "mimetype": "text/x-python",
   "name": "python",
   "nbconvert_exporter": "python",
   "pygments_lexer": "ipython2",
   "version": "2.7.10"
  }
 },
 "nbformat": 4,
 "nbformat_minor": 0
}
