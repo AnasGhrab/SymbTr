{
 "cells": [
  {
   "cell_type": "code",
   "execution_count": null,
   "metadata": {
    "collapsed": false
   },
   "outputs": [],
   "source": [
    "from fileoperations.fileoperations import getFileNamesInDir\n",
    "from symbtrdataextractor import symbtrreader, extractor\n",
    "import os\n",
    "import json\n",
    "import pandas as pd \n",
    "import numbers\n",
    "\n",
    "import pdb\n"
   ]
  },
  {
   "cell_type": "code",
   "execution_count": null,
   "metadata": {
    "collapsed": false
   },
   "outputs": [],
   "source": [
    "usuldict = json.load(open('../data/usul_extended.json','r'))\n",
    "\n",
    "symbTrfolder = os.path.join('..', '..')\n",
    "symbTrTxtfolder = os.path.join(symbTrfolder, 'txt')\n",
    "symbTrMu2Folder = os.path.join(symbTrfolder, 'mu2')\n",
    "\n",
    "symbTr_work_file = os.path.join(symbTrfolder, 'symbTr_mbid.json')\n",
    "\n",
    "txtfiles, dummy, symbtrnames = getFileNamesInDir(symbTrTxtfolder, keyword = '*.txt')\n",
    "symbtrnames = [os.path.splitext(s)[0] for s in symbtrnames]\n",
    "\n",
    "mu2files = [os.path.join(symbTrMu2Folder, sn + '.mu2') for sn in symbtrnames]\n",
    "\n",
    "symbTrTxtSavefolder = os.path.join('..', '..', 'symbtr_corrections', 'txt')\n",
    "if not os.path.exists(symbTrTxtSavefolder):\n",
    "    os.makedirs(symbTrTxtSavefolder)\n"
   ]
  },
  {
   "cell_type": "code",
   "execution_count": null,
   "metadata": {
    "collapsed": false,
    "scrolled": false
   },
   "outputs": [],
   "source": [
    "symbTr_work = json.load(open(symbTr_work_file, 'r'))\n",
    "\n",
    "for i, (tf, mf, sn) in enumerate(zip(txtfiles, mu2files, symbtrnames)):\n",
    "    saveTxtfile = os.path.join(symbTrTxtSavefolder, sn + '.txt')\n",
    "    if not sn[0:2] == '._':\n",
    "        print str(i) + ' ' + sn\n",
    "        try:\n",
    "            mu2header = symbtrreader.readMu2Header(mf)[0] \n",
    "\n",
    "            for usul in usuldict.values():\n",
    "                for uv in usul['variants']:\n",
    "                    if uv['mu2_name'] == mu2header['usul']['mu2_name']:\n",
    "                        mertebe = uv['mertebe']\n",
    "                        zaman = uv['num_pulses']\n",
    "                        break\n",
    "\n",
    "            df = pd.read_csv(tf, sep='\\t')\n",
    "            for index, row in df.iterrows():\n",
    "                # recompute the erroneous gracenotes with non-zero duration\n",
    "                if row['Kod'] == 8 and row['Ms'] > 0:\n",
    "                    row['Pay'] = 0\n",
    "                    row['Payda'] = 0\n",
    "                    row['Ms'] = 0\n",
    "\n",
    "                # recompute zaman and mertebe, if we hit kod 51\n",
    "                if row['Kod'] == 51:\n",
    "                    zaman = row['Pay']\n",
    "                    mertebe = row['Payda']\n",
    "                    offset_incr = 0\n",
    "                else:\n",
    "                    # compute offset\n",
    "                    offset_incr = 0 if row['Payda'] ==0 else float(row['Pay'])/row['Payda']*mertebe/zaman\n",
    "                if index == 0:\n",
    "                    row['Offset'] = offset_incr\n",
    "                else:\n",
    "                    prev_row = df.iloc[index-1]\n",
    "                    row['Offset'] = offset_incr + prev_row['Offset']\n",
    "\n",
    "                # change null to empty string\n",
    "                for key, val in row.iteritems():\n",
    "                    if pd.isnull(val):\n",
    "                        row[key] = ''\n",
    "\n",
    "                # make sure that \"Sira\" column continues consecutively\n",
    "                row['Sira'] = index+1\n",
    "\n",
    "                # reassign\n",
    "                df.iloc[index] = row\n",
    "            df.to_csv(saveTxtfile, sep='\\t', index=False)\n",
    "\n",
    "            txtdata = extractor.extract(saveTxtfile)[0]\n",
    "            if not (round(row['Offset']*10000)*0.0001).is_integer():\n",
    "                print \"Ends prematurely!\"\n",
    "        except:\n",
    "            print \"Unexpected error\""
   ]
  },
  {
   "cell_type": "code",
   "execution_count": null,
   "metadata": {
    "collapsed": false
   },
   "outputs": [],
   "source": []
  }
 ],
 "metadata": {
  "kernelspec": {
   "display_name": "Python 2",
   "language": "python",
   "name": "python2"
  },
  "language_info": {
   "codemirror_mode": {
    "name": "ipython",
    "version": 2
   },
   "file_extension": ".py",
   "mimetype": "text/x-python",
   "name": "python",
   "nbconvert_exporter": "python",
   "pygments_lexer": "ipython2",
   "version": "2.7.10"
  }
 },
 "nbformat": 4,
 "nbformat_minor": 0
}
