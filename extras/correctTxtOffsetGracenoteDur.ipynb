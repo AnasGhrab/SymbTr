{
 "cells": [
  {
   "cell_type": "code",
   "execution_count": 162,
   "metadata": {
    "collapsed": false
   },
   "outputs": [],
   "source": [
    "from fileoperations.fileoperations import getFileNamesInDir\n",
    "from symbtrdataextractor import symbtrreader, extractor\n",
    "import os\n",
    "import json\n",
    "import pandas as pd \n",
    "\n",
    "import pdb"
   ]
  },
  {
   "cell_type": "code",
   "execution_count": 163,
   "metadata": {
    "collapsed": false
   },
   "outputs": [],
   "source": [
    "symbTr = 'acemasiran--yuruksemai--yuruksemai--bileydi_dil--itri'\n",
    "symbtrtxtfile = os.path.join('../txt', symbTr + '.txt')\n",
    "symbtrmu2file = os.path.join('../mu2', symbTr + '.mu2')\n",
    "\n",
    "usuldict = json.load(open('./unittests/data/usul_extended.json','r'))\n",
    "\n",
    "savefile = os.path.join('..', '..', 'symbtr_corrections', 'txt', symbTr + '.txt')"
   ]
  },
  {
   "cell_type": "code",
   "execution_count": 164,
   "metadata": {
    "collapsed": false
   },
   "outputs": [
    {
     "name": "stdout",
     "output_type": "stream",
     "text": [
      "    Some measures are skipped by the offsets\n",
      "[33.08333, 44.16667, 53.08333, 58.08333, 68.08334, 69.08334, 70.08334, 71.08334, 72.08334, 73.08334, 78.08334, 79.08334, 93.08334, 96.08334, 97.08334, 98.08334]\n",
      "    98.0: li   and vay   are in the same measure!\n",
      "    96.0: li   and Ye are in the same measure!\n",
      "    46.0: li   and ye are in the same measure!\n",
      "    40.0: li   and Te are in the same measure!\n",
      "    3.0: dir   and Yar  are in the same measure!\n",
      "acemasiran--yuruksemai--yuruksemai--bileydi_dil--itri, 35, VOCAL_SECTION does not start on a measure: 3.666667\n",
      "acemasiran--yuruksemai--yuruksemai--bileydi_dil--itri, 301, VOCAL_SECTION does not start on a measure: 33.08333\n",
      "acemasiran--yuruksemai--yuruksemai--bileydi_dil--itri, 376, VOCAL_SECTION does not start on a measure: 40.83333\n",
      "acemasiran--yuruksemai--yuruksemai--bileydi_dil--itri, 423, VOCAL_SECTION does not start on a measure: 46.83333\n",
      "acemasiran--yuruksemai--yuruksemai--bileydi_dil--itri, 695, VOCAL_SECTION does not start on a measure: 78.08334\n",
      "acemasiran--yuruksemai--yuruksemai--bileydi_dil--itri, 860, VOCAL_SECTION does not start on a measure: 96.58334\n",
      "acemasiran--yuruksemai--yuruksemai--bileydi_dil--itri, 876, VOCAL_SECTION does not start on a measure: 98.41666\n"
     ]
    }
   ],
   "source": [
    "# extract symbtr data\n",
    "txtdata = extractor.extract(symbtrtxtfile)[0]\n",
    "mu2header = symbtrreader.readMu2Header(symbtrmu2file)[0]\n",
    "\n",
    "if 'work' in txtdata.keys():\n",
    "    mu2header['work'] = {'mu2_title':mu2header.pop('mu2_title')}\n",
    "elif 'recording' in txtdata.keys():\n",
    "    mu2header['recording'] = {'mu2_title':mu2header.pop('mu2_title')}\n",
    "else:\n",
    "    mu2header.pop('mu2_title')\n",
    "\n",
    "# merge\n",
    "data = extractor.merge(txtdata, mu2header)"
   ]
  },
  {
   "cell_type": "code",
   "execution_count": 165,
   "metadata": {
    "collapsed": false
   },
   "outputs": [],
   "source": [
    "for usul in usuldict.values():\n",
    "    for uv in usul['variants']:\n",
    "        if uv['mu2_name'] == data['usul']['mu2_name']:\n",
    "            mertebe = uv['mertebe']\n",
    "            zaman = uv['num_pulses']\n",
    "            break\n"
   ]
  },
  {
   "cell_type": "code",
   "execution_count": 166,
   "metadata": {
    "collapsed": false,
    "scrolled": true
   },
   "outputs": [],
   "source": [
    "df = pd.read_csv(symbtrtxtfile, sep='\\t')\n",
    "for index, row in df.iterrows():\n",
    "    # recompute the erroneous gracenotes with non-zero duration\n",
    "    if row['Kod'] == 8 and row['Ms'] > 0:\n",
    "        row['Pay'] = 0\n",
    "        row['Payda'] = 0\n",
    "        row['Ms'] = 0\n",
    "        \n",
    "    # recompute zaman and mertebe, if we hit kod 51\n",
    "    if row['Kod'] == 51:\n",
    "        zaman = row['Pay']\n",
    "        mertebe = row['Payda']\n",
    "        offset_incr = 0\n",
    "    else:\n",
    "        # compute offset\n",
    "        offset_incr = 0 if row['Payda'] ==0 else float(row['Pay'])/row['Payda']*mertebe/zaman\n",
    "    if index == 0:\n",
    "        row['Offset'] = offset_incr\n",
    "    else:\n",
    "        prev_row = df.iloc[index-1]\n",
    "        row['Offset'] = offset_incr + prev_row['Offset']\n",
    "                \n",
    "    # change null to empty string\n",
    "    for key, val in row.iteritems():\n",
    "        if pd.isnull(val):\n",
    "            row[key] = ''\n",
    "            \n",
    "    # make sure that \"Sira\" column continues consecutively\n",
    "    row['Sira'] = index+1\n",
    "    \n",
    "    # reassign\n",
    "    df.iloc[index] = row\n",
    "    "
   ]
  },
  {
   "cell_type": "code",
   "execution_count": 167,
   "metadata": {
    "collapsed": false
   },
   "outputs": [],
   "source": [
    "df.to_csv(savefile, sep='\\t', index=False)"
   ]
  },
  {
   "cell_type": "code",
   "execution_count": 168,
   "metadata": {
    "collapsed": false
   },
   "outputs": [
    {
     "name": "stdout",
     "output_type": "stream",
     "text": [
      "    Some measures are skipped by the offsets\n",
      "[33.0833333333, 44.1666666667, 53.0833333333, 58.0833333333, 68.0833333333, 69.0833333333, 70.0833333333, 71.0833333333, 72.0833333333, 73.0833333333, 78.0833333333, 79.0833333333, 93.0833333333, 96.0833333333, 97.0833333333, 98.0833333333]\n",
      "    98.0: li   and vay   are in the same measure!\n",
      "    96.0: li   and Ye are in the same measure!\n",
      "    46.0: li   and ye are in the same measure!\n",
      "    40.0: li   and Te are in the same measure!\n",
      "    3.0: dir   and Yar  are in the same measure!\n",
      "acemasiran--yuruksemai--yuruksemai--bileydi_dil--itri, 35, VOCAL_SECTION does not start on a measure: 3.66666666667\n",
      "acemasiran--yuruksemai--yuruksemai--bileydi_dil--itri, 301, VOCAL_SECTION does not start on a measure: 33.0833333333\n",
      "acemasiran--yuruksemai--yuruksemai--bileydi_dil--itri, 376, VOCAL_SECTION does not start on a measure: 40.8333333333\n",
      "acemasiran--yuruksemai--yuruksemai--bileydi_dil--itri, 423, VOCAL_SECTION does not start on a measure: 46.8333333333\n",
      "acemasiran--yuruksemai--yuruksemai--bileydi_dil--itri, 695, VOCAL_SECTION does not start on a measure: 78.0833333333\n",
      "acemasiran--yuruksemai--yuruksemai--bileydi_dil--itri, 860, VOCAL_SECTION does not start on a measure: 96.5833333333\n",
      "acemasiran--yuruksemai--yuruksemai--bileydi_dil--itri, 876, VOCAL_SECTION does not start on a measure: 98.4166666667\n",
      "Ends prematurely!\n"
     ]
    }
   ],
   "source": [
    "txtdata = extractor.extract(savefile)[0]\n",
    "import numbers\n",
    "if not (round(row['Offset']*10000)*0.0001).is_integer():\n",
    "    print \"Ends prematurely!\""
   ]
  }
 ],
 "metadata": {
  "kernelspec": {
   "display_name": "Python 2",
   "language": "python",
   "name": "python2"
  },
  "language_info": {
   "codemirror_mode": {
    "name": "ipython",
    "version": 2
   },
   "file_extension": ".py",
   "mimetype": "text/x-python",
   "name": "python",
   "nbconvert_exporter": "python",
   "pygments_lexer": "ipython2",
   "version": "2.7.6"
  }
 },
 "nbformat": 4,
 "nbformat_minor": 0
}
