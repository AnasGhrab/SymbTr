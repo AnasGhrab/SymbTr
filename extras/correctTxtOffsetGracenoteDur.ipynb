{
 "cells": [
  {
   "cell_type": "code",
   "execution_count": null,
   "metadata": {
    "collapsed": false
   },
   "outputs": [],
   "source": [
    "from fileoperations.fileoperations import getFileNamesInDir\n",
    "from symbtrdataextractor import symbtrreader, extractor\n",
    "import os\n",
    "import json\n",
    "import pandas as pd \n",
    "\n",
    "import pdb"
   ]
  },
  {
   "cell_type": "code",
   "execution_count": null,
   "metadata": {
    "collapsed": false
   },
   "outputs": [],
   "source": [
    "symbTr = 'makam--form--usul--name--composer'\n",
    "\n",
    "symbtrtxtfile = os.path.join('../txt', symbTr + '.txt')\n",
    "symbtrmu2file = os.path.join('../mu2', symbTr + '.mu2')\n",
    "\n",
    "usuldict = json.load(open('./unittests/data/usul_extended.json','r'))\n",
    "\n",
    "savefile = os.path.join('..', '..', 'symbtr_corrections', 'txt', symbTr + '.txt')"
   ]
  },
  {
   "cell_type": "code",
   "execution_count": null,
   "metadata": {
    "collapsed": false
   },
   "outputs": [],
   "source": [
    "# extract symbtr data\n",
    "txtdata = extractor.extract(symbtrtxtfile)[0]\n",
    "mu2header = symbtrreader.readMu2Header(symbtrmu2file)[0]\n",
    "\n",
    "# merge\n",
    "data = extractor.merge(txtdata, mu2header)"
   ]
  },
  {
   "cell_type": "code",
   "execution_count": null,
   "metadata": {
    "collapsed": false
   },
   "outputs": [],
   "source": [
    "for usul in usuldict.values():\n",
    "    for uv in usul['variants']:\n",
    "        if uv['mu2_name'] == data['usul']['mu2_name']:\n",
    "            mertebe = uv['mertebe']\n",
    "            zaman = uv['num_pulses']\n",
    "            break\n"
   ]
  },
  {
   "cell_type": "code",
   "execution_count": null,
   "metadata": {
    "collapsed": false,
    "scrolled": true
   },
   "outputs": [],
   "source": [
    "df = pd.read_csv(symbtrtxtfile, sep='\\t')\n",
    "for index, row in df.iterrows():\n",
    "    # recompute the erroneous gracenotes with non-zero duration\n",
    "    if row['Kod'] == 8 and row['Ms'] > 0:\n",
    "        row['Pay'] = 0\n",
    "        row['Payda'] = 0\n",
    "        row['Ms'] = 0\n",
    "        \n",
    "    # recompute zaman and mertebe, if we hit kod 51\n",
    "    if row['Kod'] == 51:\n",
    "        zaman = row['Pay']\n",
    "        mertebe = row['Payda']\n",
    "        offset_incr = 0\n",
    "    else:\n",
    "        # compute offset\n",
    "        offset_incr = 0 if row['Payda'] ==0 else float(row['Pay'])/row['Payda']*mertebe/zaman\n",
    "    if index == 0:\n",
    "        row['Offset'] = offset_incr\n",
    "    else:\n",
    "        prev_row = df.iloc[index-1]\n",
    "        row['Offset'] = offset_incr + prev_row['Offset']\n",
    "                \n",
    "    # change null to empty string\n",
    "    for key, val in row.iteritems():\n",
    "        if pd.isnull(val):\n",
    "            row[key] = ''\n",
    "            \n",
    "    # make sure that \"Sira\" column continues consecutively\n",
    "    row['Sira'] = index+1\n",
    "    \n",
    "    # reassign\n",
    "    df.iloc[index] = row\n",
    "    "
   ]
  },
  {
   "cell_type": "code",
   "execution_count": null,
   "metadata": {
    "collapsed": false
   },
   "outputs": [],
   "source": [
    "df.to_csv(savefile, sep='\\t', index=False)"
   ]
  },
  {
   "cell_type": "code",
   "execution_count": null,
   "metadata": {
    "collapsed": false
   },
   "outputs": [],
   "source": [
    "txtdata = extractor.extract(savefile)[0]\n",
    "import numbers\n",
    "if not (round(row['Offset']*10000)*0.0001).is_integer():\n",
    "    print \"Ends prematurely!\""
   ]
  }
 ],
 "metadata": {
  "kernelspec": {
   "display_name": "Python 2",
   "language": "python",
   "name": "python2"
  },
  "language_info": {
   "codemirror_mode": {
    "name": "ipython",
    "version": 2
   },
   "file_extension": ".py",
   "mimetype": "text/x-python",
   "name": "python",
   "nbconvert_exporter": "python",
   "pygments_lexer": "ipython2",
   "version": "2.7.6"
  }
 },
 "nbformat": 4,
 "nbformat_minor": 0
}
