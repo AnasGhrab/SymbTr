{
 "cells": [
  {
   "cell_type": "code",
   "execution_count": 71,
   "metadata": {
    "collapsed": false
   },
   "outputs": [],
   "source": [
    "from fileoperations.fileoperations import getFileNamesInDir\n",
    "from symbtrdataextractor import symbtrreader, extractor\n",
    "import os\n",
    "import json\n",
    "import pandas as pd \n",
    "\n",
    "import pdb"
   ]
  },
  {
   "cell_type": "code",
   "execution_count": 72,
   "metadata": {
    "collapsed": false
   },
   "outputs": [],
   "source": [
    "symbTr = ''\n",
    "symbtrtxtfile = os.path.join('../txt', symbTr + '.txt')\n",
    "symbtrmu2file = os.path.join('../mu2', symbTr + '.mu2')\n",
    "\n",
    "usuldict = json.load(open('./unittests/data/usul_extended.json','r'))\n",
    "\n",
    "savefile = os.path.join('..', '..', 'symbtr_corrections', 'txt', symbTr + '.txt')"
   ]
  },
  {
   "cell_type": "code",
   "execution_count": 73,
   "metadata": {
    "collapsed": false
   },
   "outputs": [
    {
     "name": "stdout",
     "output_type": "stream",
     "text": [
      "    Some measures are skipped by the offsets\n",
      "[15.0625, 17.0625, 19.0625, 21.0625, 23.0625, 24.01563, 25.01563, 26.01563, 27.01563, 28.01563, 29.01563, 30.01563, 31.01563, 32.01563, 33.01563, 34.01563, 35.01563, 36.01563, 37.01563, 38.01563, 39.01563, 40.01563, 41.01563, 42.01563, 43.01563, 44.01563, 45.01563, 46.01563, 47.01563, 48.01563, 49.01563, 50.01563, 51.01563, 52.14063, 53.01563, 54.26563, 55.01563, 56.64063]\n",
      "kurdilihicazkar--sarki--duyek--her_kimde--civan_aga, Missing section info in lyrics.\n"
     ]
    }
   ],
   "source": [
    "# extract symbtr data\n",
    "txtdata = extractor.extract(symbtrtxtfile)[0]\n",
    "mu2header = symbtrreader.readMu2Header(symbtrmu2file)[0]\n",
    "\n",
    "if 'work' in txtdata.keys():\n",
    "    mu2header['work'] = {'mu2_title':mu2header.pop('mu2_title')}\n",
    "elif 'recording' in txtdata.keys():\n",
    "    mu2header['recording'] = {'mu2_title':mu2header.pop('mu2_title')}\n",
    "else:\n",
    "    mu2header.pop('mu2_title')\n",
    "\n",
    "# merge\n",
    "data = extractor.merge(txtdata, mu2header)"
   ]
  },
  {
   "cell_type": "code",
   "execution_count": 74,
   "metadata": {
    "collapsed": false
   },
   "outputs": [],
   "source": [
    "for usul in usuldict.values():\n",
    "    for uv in usul['variants']:\n",
    "        if uv['mu2_name'] == data['usul']['mu2_name']:\n",
    "            mertebe = uv['mertebe']\n",
    "            zaman = uv['num_pulses']\n",
    "            break\n"
   ]
  },
  {
   "cell_type": "code",
   "execution_count": 75,
   "metadata": {
    "collapsed": false,
    "scrolled": true
   },
   "outputs": [],
   "source": [
    "df = pd.read_csv(symbtrtxtfile, sep='\\t')\n",
    "for index, row in df.iterrows():\n",
    "    # recompute the erroneous gracenotes with non-zero duration\n",
    "    if row['Kod'] == 8 and row['Ms'] > 0:\n",
    "        row['Pay'] = 0\n",
    "        row['Payda'] = 0\n",
    "        row['Ms'] = 0\n",
    "        \n",
    "    # recompute zaman and mertebe, if we hit kod 51\n",
    "    if row['Kod'] == 51:\n",
    "        zaman = row['Pay']\n",
    "        mertebe = row['Payda']\n",
    "        \n",
    "    # compute offset\n",
    "    offset_incr = 0 if row['Payda'] ==0 else float(row['Pay'])/row['Payda']*mertebe/zaman\n",
    "    if index == 0:\n",
    "        row['Offset'] = offset_incr\n",
    "    else:\n",
    "        prev_row = df.iloc[index-1]\n",
    "        row['Offset'] = offset_incr + prev_row['Offset']\n",
    "                \n",
    "    # change null to empty string\n",
    "    for key, val in row.iteritems():\n",
    "        if pd.isnull(val):\n",
    "            row[key] = ''\n",
    "            \n",
    "    # make sure that \"Sira\" column continues consecutively\n",
    "    row['Sira'] = index+1\n",
    "    \n",
    "    # reassign\n",
    "    df.iloc[index] = row\n",
    "    "
   ]
  },
  {
   "cell_type": "code",
   "execution_count": 76,
   "metadata": {
    "collapsed": false
   },
   "outputs": [],
   "source": [
    "df.to_csv(savefile, sep='\\t', index=False)"
   ]
  },
  {
   "cell_type": "code",
   "execution_count": 77,
   "metadata": {
    "collapsed": false
   },
   "outputs": [
    {
     "name": "stdout",
     "output_type": "stream",
     "text": [
      "    Some measures are skipped by the offsets\n",
      "[24.015625, 25.015625, 26.015625, 27.015625, 28.015625, 29.015625, 30.015625, 31.015625, 32.015625, 33.015625, 34.015625, 35.015625, 36.015625, 37.015625, 38.015625, 39.015625, 40.015625, 41.015625, 42.015625, 43.015625, 44.015625, 45.015625, 46.015625, 47.015625, 48.015625, 49.015625, 50.015625, 51.015625, 52.015625, 53.015625, 54.015625, 55.015625]\n",
      "kurdilihicazkar--sarki--duyek--her_kimde--civan_aga, Missing section info in lyrics.\n"
     ]
    }
   ],
   "source": [
    "txtdata = extractor.extract(savefile)[0]"
   ]
  },
  {
   "cell_type": "code",
   "execution_count": null,
   "metadata": {
    "collapsed": false
   },
   "outputs": [],
   "source": []
  }
 ],
 "metadata": {
  "kernelspec": {
   "display_name": "Python 2",
   "language": "python",
   "name": "python2"
  },
  "language_info": {
   "codemirror_mode": {
    "name": "ipython",
    "version": 2
   },
   "file_extension": ".py",
   "mimetype": "text/x-python",
   "name": "python",
   "nbconvert_exporter": "python",
   "pygments_lexer": "ipython2",
   "version": "2.7.6"
  }
 },
 "nbformat": 4,
 "nbformat_minor": 0
}
