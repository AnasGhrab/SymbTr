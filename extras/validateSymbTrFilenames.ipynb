{
 "cells": [
  {
   "cell_type": "code",
   "execution_count": 1,
   "metadata": {
    "collapsed": false
   },
   "outputs": [],
   "source": [
    "from fileoperations.fileoperations import getFileNamesInDir\n",
    "import os\n",
    "import json\n"
   ]
  },
  {
   "cell_type": "code",
   "execution_count": 2,
   "metadata": {
    "collapsed": false
   },
   "outputs": [
    {
     "name": "stdout",
     "output_type": "stream",
     "text": [
      "2205\n",
      "2205\n",
      "2205\n",
      "2205\n",
      "2205\n",
      "2205\n"
     ]
    }
   ],
   "source": [
    "symbTrfolder = '../'\n",
    "symbTrTxtfolder = os.path.join(symbTrfolder, 'txt/')\n",
    "symbTrPdffolder = os.path.join(symbTrfolder, 'SymbTr-pdf/')\n",
    "symbTrMu2folder = os.path.join(symbTrfolder, 'mu2/')\n",
    "symbTrXmlfolder = os.path.join(symbTrfolder, 'MusicXML/')\n",
    "symbTrMidfolder = os.path.join(symbTrfolder, 'midi/')\n",
    "\n",
    "symbTr_work_file = os.path.join(symbTrfolder, 'symbTr_mbid.json')\n",
    "\n",
    "symbtrtxtnames = getFileNamesInDir(symbTrTxtfolder, keyword = '*.txt')[2]\n",
    "symbtrtxtnames = [s for s in symbtrtxtnames if not s[0] == '.']\n",
    "symbtrtxtnames = set([os.path.splitext(s)[0] for s in symbtrtxtnames])\n",
    "print len(symbtrtxtnames)\n",
    "\n",
    "symbtrmu2names = getFileNamesInDir(symbTrMu2folder, keyword = '*.mu2')[2]\n",
    "symbtrmu2names = [s for s in symbtrmu2names if not s[0] == '.']\n",
    "symbtrmu2names = set([os.path.splitext(s)[0] for s in symbtrtxtnames])\n",
    "print len(symbtrmu2names)\n",
    "\n",
    "symbtrpdfnames = getFileNamesInDir(symbTrPdffolder, keyword = '*.pdf')[2]\n",
    "symbtrpdfnames = [s for s in symbtrpdfnames if not s[0] == '.']\n",
    "symbtrpdfnames = set([os.path.splitext(s)[0] for s in symbtrpdfnames])\n",
    "print len(symbtrpdfnames)\n",
    "\n",
    "symbtrxmlnames = getFileNamesInDir(symbTrXmlfolder, keyword = '*.xml')[2]\n",
    "symbtrxmlnames = [s for s in symbtrxmlnames if not s[0] == '.']\n",
    "symbtrxmlnames = set([os.path.splitext(s)[0] for s in symbtrxmlnames])\n",
    "print len(symbtrxmlnames)\n",
    "\n",
    "symbtrmidnames = getFileNamesInDir(symbTrMidfolder, keyword = '*.mid')[2]\n",
    "symbtrmidnames = [s for s in symbtrmidnames if not s[0] == '.']\n",
    "symbtrmidnames = set([os.path.splitext(s)[0] for s in symbtrmidnames])\n",
    "print len(symbtrmidnames)\n",
    "\n",
    "symbTr_work = json.load(open(symbTr_work_file, 'r'))\n",
    "symbtrjsonnames = set(s['name'] for s in symbTr_work)\n",
    "print len(symbtrjsonnames)"
   ]
  },
  {
   "cell_type": "code",
   "execution_count": 3,
   "metadata": {
    "collapsed": false,
    "scrolled": true
   },
   "outputs": [
    {
     "name": "stdout",
     "output_type": "stream",
     "text": [
      "- All the SymbTr files are consistent if all the printed sets are empty.\n",
      " \n",
      "set([])\n",
      " \n",
      "set([])\n",
      " \n",
      "set([])\n",
      " \n",
      "set([])\n",
      " \n",
      "set([])\n",
      " \n",
      "set([])\n"
     ]
    }
   ],
   "source": [
    "print '- All the SymbTr files are consistent if all the printed sets are empty.'\n",
    "print ' '\n",
    "print symbtrtxtnames - symbtrmu2names\n",
    "print ' '\n",
    "print symbtrmu2names - symbtrpdfnames\n",
    "print ' '\n",
    "print symbtrpdfnames - symbtrxmlnames\n",
    "print ' '\n",
    "print symbtrxmlnames - symbtrmidnames\n",
    "print ' '\n",
    "print symbtrmidnames - symbtrjsonnames\n",
    "print ' '\n",
    "print symbtrjsonnames - symbtrtxtnames"
   ]
  },
  {
   "cell_type": "code",
   "execution_count": null,
   "metadata": {
    "collapsed": true
   },
   "outputs": [],
   "source": []
  }
 ],
 "metadata": {
  "kernelspec": {
   "display_name": "Python 2",
   "language": "python",
   "name": "python2"
  },
  "language_info": {
   "codemirror_mode": {
    "name": "ipython",
    "version": 2
   },
   "file_extension": ".py",
   "mimetype": "text/x-python",
   "name": "python",
   "nbconvert_exporter": "python",
   "pygments_lexer": "ipython2",
   "version": "2.7.10"
  }
 },
 "nbformat": 4,
 "nbformat_minor": 0
}
