{
 "cells": [
  {
   "cell_type": "code",
   "execution_count": 1,
   "metadata": {
    "collapsed": false
   },
   "outputs": [],
   "source": [
    "from fileoperations.fileoperations import getFileNamesInDir\n",
    "from symbtrdataextractor import symbtrreader, extractor\n",
    "import os\n",
    "import json\n",
    "import pandas as pd \n",
    "\n",
    "import pdb"
   ]
  },
  {
   "cell_type": "code",
   "execution_count": null,
   "metadata": {
    "collapsed": true
   },
   "outputs": [],
   "source": [
    "symbtr_cols = ['Sira', 'Kod', 'Nota53', 'NotaAE', 'Koma53', 'KomaAE', \n",
    "               'Pay', 'Payda', 'Ms', 'LNS', 'Bas', 'Soz1', 'Offset']\n",
    "savefolder = os.path.join('..', '..', 'symbtr_corrections', 'usul')\n",
    "symbtrs = [os.path.splitext(s)[0] for s in getFileNamesInDir('../txt', keyword='*.txt')[2]]"
   ]
  },
  {
   "cell_type": "code",
   "execution_count": null,
   "metadata": {
    "collapsed": false
   },
   "outputs": [
    {
     "name": "stdout",
     "output_type": "stream",
     "text": [
      "0: muhayyer--bozlak--sofyan--havayi_da--asaf_guven\n",
      "    6.0: yı   and Çe are in the same measure!\n",
      "muhayyer--bozlak--sofyan--havayi_da--asaf_guven, 59, VOCAL_SECTION does not start on a measure: 6.5625\n",
      "   Unknown title target.\n",
      "1: hicaz_humayun--turku--curcuna--hishisi_hancer--gaziantep\n",
      "   Unknown title target.\n",
      "2: beyati_araban--seyir--duyek--1--sefik_gurmeric\n",
      "beyati_araban--seyir--duyek--1--sefik_gurmeric, Missing section info in lyrics.\n",
      "   Unknown title target.\n",
      "3: huseyni--sarki--agiraksak--bendeni_gordukce--ismet_aga\n",
      "huseyni--sarki--agiraksak--bendeni_gordukce--ismet_aga, Missing section info in lyrics.\n",
      "   Unknown title target.\n",
      "4: nihavent--sarki--duyek--ayrilik_bukuverdi--arif_sami_toker\n",
      "   Unknown title target.\n",
      "5: gerdaniye--turku--nimsofyan--al_almanin--malatya\n",
      "   Unknown title target.\n",
      "6: ussak--turku--yuruksemai_ii--cilveloy--artvin\n",
      "   Unknown title target.\n",
      "7: muhayyerkurdi--sarki--nimsofyan--gonlumu_gonlune--omer_sami_gupgup\n",
      "   Unknown title target.\n",
      "8: mahur--sarki--duyek--hosgeldin_elimize--sadettin_kaynak\n",
      "mahur--sarki--duyek--hosgeldin_elimize--sadettin_kaynak, Missing section info in lyrics.\n",
      "   Unknown title target.\n",
      "9: beyati--sarki--duyek--seni_ne_cok--erol_sayan\n",
      "beyati--sarki--duyek--seni_ne_cok--erol_sayan, Missing section info in lyrics.\n",
      "   Unknown title target.\n",
      "10: muhayyerkurdi--pesrev--devrikebir----asdik_aga\n",
      "   Unknown title target.\n",
      "11: segah--ornek_oz--duyek--1--ruhi_ayangil\n",
      "segah--ornek_oz--duyek--1--ruhi_ayangil, Missing section info in lyrics.\n",
      "   Unknown title target.\n",
      "12: hicazkar--sarki--duyek--harap_oldu--arif_sami_toker\n",
      "hicazkar--sarki--duyek--harap_oldu--arif_sami_toker, Missing section info in lyrics.\n",
      "   Unknown title target."
     ]
    }
   ],
   "source": [
    "for ii, symbTr in enumerate(symbtrs):\n",
    "    print str(ii) + ': ' + symbTr\n",
    "    \n",
    "    symbtrtxtfile = os.path.join('../txt', symbTr + '.txt')\n",
    "    symbtrmu2file = os.path.join('../mu2', symbTr + '.mu2')\n",
    "\n",
    "    usuldict = json.load(open('./unittests/data/usul_extended.json','r'))\n",
    "\n",
    "    savefile = os.path.join(savefolder, symbTr + '.txt')\n",
    "\n",
    "    # extract symbtr data\n",
    "    txtdata = extractor.extract(symbtrtxtfile)[0]\n",
    "    mu2header = symbtrreader.readMu2Header(symbtrmu2file)[0]\n",
    "\n",
    "    # merge\n",
    "    data = extractor.merge(txtdata, mu2header)\n",
    "\n",
    "    # get the usul variant\n",
    "    variant = {}\n",
    "    for vrt in usuldict[data['usul']['symbtr_slug']]['variants']:\n",
    "        if vrt['mu2_name'] == data['usul']['mu2_name']:\n",
    "            variant = vrt\n",
    "            break\n",
    "\n",
    "    df = pd.read_csv(symbtrtxtfile, sep='\\t')\n",
    "    if not df.iloc[0]['Kod'] == 51:\n",
    "        # create the usul row\n",
    "        # 1\t51\t\t\t0\t0\tzaman\tmertebe\t0\tusul_symbtr_internal_id\t0\tusul_mu2_name\t0\n",
    "        # 1\t51\t\t\t0\t0\t6\t4\t0\t90\t0\tYürüksemâî (6/4)\t0\n",
    "        usulrow = pd.DataFrame({'Sira':1, 'Kod':51, 'Nota53':'', 'NotaAE':'', 'Koma53':0, 'KomaAE':0,\n",
    "                                'Pay':int(variant['num_pulses']),'Payda':int(variant['mertebe']),'Ms':0,'Offset':0,\n",
    "                                'LNS':variant['symbtr_internal_id'],'Bas':0,'Soz1':variant['mu2_name']}, index=[0])\n",
    "        df2 = pd.DataFrame(df,index=range(1, df.size+1))\n",
    "\n",
    "        for index, row in df.iterrows():       \n",
    "            # change null to empty string\n",
    "            for key, val in row.iteritems():\n",
    "                if pd.isnull(val):\n",
    "                    row[key] = ''\n",
    "\n",
    "            # make sure that \"Sira\" column continues consecutively\n",
    "            row['Sira'] = row['Sira']+1\n",
    "\n",
    "            # reassign\n",
    "            df.iloc[index] = row\n",
    "\n",
    "        df_usul = pd.concat([usulrow, df], ignore_index=True)[symbtr_cols]\n",
    "        df_usul.to_csv(savefile, sep='\\t', index=False, encoding='utf-8')\n",
    "    else:\n",
    "        print symbTr + \" starts with the usul row\""
   ]
  }
 ],
 "metadata": {
  "kernelspec": {
   "display_name": "Python 2",
   "language": "python",
   "name": "python2"
  },
  "language_info": {
   "codemirror_mode": {
    "name": "ipython",
    "version": 2
   },
   "file_extension": ".py",
   "mimetype": "text/x-python",
   "name": "python",
   "nbconvert_exporter": "python",
   "pygments_lexer": "ipython2",
   "version": "2.7.6"
  }
 },
 "nbformat": 4,
 "nbformat_minor": 0
}
