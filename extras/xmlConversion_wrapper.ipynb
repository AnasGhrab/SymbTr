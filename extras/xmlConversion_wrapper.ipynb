{
 "cells": [
  {
   "cell_type": "code",
   "execution_count": null,
   "metadata": {
    "collapsed": true
   },
   "outputs": [],
   "source": [
    "import os\n",
    "import json\n",
    "import urllib\n",
    "\n",
    "from fileoperations.fileoperations import getFileNamesInDir\n",
    "from musicxmlconverter.symbtr2musicxml import symbtrscore"
   ]
  },
  {
   "cell_type": "code",
   "execution_count": null,
   "metadata": {
    "collapsed": false
   },
   "outputs": [],
   "source": [
    "txtfolder = os.path.join('..', 'txt')\n",
    "mu2folder = os.path.join('..', 'mu2')\n",
    "xmlfolder = os.path.join('..', 'MusicXML')\n",
    "\n",
    "txtfilepaths, dummyfolders, txtfiles = getFileNamesInDir(txtfolder, '*.txt')\n",
    "symbtrnames = [os.path.splitext(sf)[0] for sf in txtfiles]\n",
    "mu2filepaths = [os.path.join(mu2folder, sn + '.mu2') for sn in symbtrnames]\n",
    "xmlfilepaths = [os.path.join(xmlfolder, sn + '.xml') for sn in symbtrnames]\n",
    "\n",
    "symbtr_mbid_file = os.path.join('..', 'symbTr_mbid.json')\n",
    "symbtr_mbid = json.load(open(symbtr_mbid_file, 'r'))\n"
   ]
  },
  {
   "cell_type": "code",
   "execution_count": null,
   "metadata": {
    "collapsed": false
   },
   "outputs": [],
   "source": [
    "for ii, (tf, mf, xf, sn) in enumerate(zip(txtfilepaths, mu2filepaths, xmlfilepaths, symbtrnames)):\n",
    "    print str(ii) + ' ' + sn\n",
    "    \n",
    "    mbids = []  # extremely rare but there can be more than one mbid \n",
    "    for e in symbtr_mbid:\n",
    "        if e['name'] == sn:\n",
    "            mbids.append(e['uuid'])\n",
    "            \n",
    "    # MusicXML conversion\n",
    "    piece = symbtrscore(tf, mf, symbtrname=sn, mbid=mbids)\n",
    "    piece.convertsymbtr2xml(verbose=False)\n",
    "    piece.writexml(xf)"
   ]
  }
 ],
 "metadata": {
  "kernelspec": {
   "display_name": "Python 2",
   "language": "python",
   "name": "python2"
  },
  "language_info": {
   "codemirror_mode": {
    "name": "ipython",
    "version": 2
   },
   "file_extension": ".py",
   "mimetype": "text/x-python",
   "name": "python",
   "nbconvert_exporter": "python",
   "pygments_lexer": "ipython2",
   "version": "2.7.6"
  }
 },
 "nbformat": 4,
 "nbformat_minor": 0
}
